{
 "cells": [
  {
   "cell_type": "markdown",
   "metadata": {},
   "source": [
    "Import packages"
   ]
  },
  {
   "cell_type": "code",
   "execution_count": null,
   "metadata": {},
   "outputs": [],
   "source": [
    "import numpy as np \n",
    "import pandas as pd\n",
    "from sklearn.linear_model import LinearRegression\n",
    "from sklearn.model_selection import GridSearchCV, KFold\n",
    "from sklearn.model_selection import cross_val_score\n",
    "import seaborn as sns\n",
    "import matplotlib.pyplot as plt\n",
    "from sklearn import preprocessing, svm\n",
    "from sklearn.model_selection import train_test_split\n",
    "from sklearn.ensemble import RandomForestRegressor\n",
    "from scipy import stats\n",
    "from lazypredict.Supervised import LazyRegressor"
   ]
  },
  {
   "cell_type": "code",
   "execution_count": null,
   "metadata": {},
   "outputs": [],
   "source": [
    "#read csv\n",
    "df = pd.read_csv(\"CH4_ML_dataset.csv\")\n",
    "\n",
    "df.head()"
   ]
  },
  {
   "cell_type": "code",
   "execution_count": null,
   "metadata": {},
   "outputs": [],
   "source": [
    "features = df[[]]\n",
    "feature_names = []\n",
    "\n",
    "\n",
    "features = features.to_numpy()\n",
    "ch4 = df[[\"\"]].to_numpy()\n",
    "\n",
    "lat = df[[\"Latitude\"]].to_numpy()\n",
    "lon = df[[\"Longitude\"]].to_numpy()\n",
    "coordinates = (df.Latitude, df.Longitude)\n",
    "\n",
    "rs = 621"
   ]
  },
  {
   "cell_type": "code",
   "execution_count": null,
   "metadata": {},
   "outputs": [],
   "source": [
    "#%% INITIAL TRAIN-TEST SPLIT (holdout 10% for final training)\n",
    "from sklearn.model_selection import train_test_split\n",
    "\n",
    "x_train, x_test, y_train, y_test, lon_train, lon_test, lat_train, lat_test = train_test_split(\n",
    "    features, chla, lon, lat, test_size = 0.1, random_state = rs)"
   ]
  },
  {
   "cell_type": "code",
   "execution_count": null,
   "metadata": {},
   "outputs": [],
   "source": [
    "#define evaluate function\n",
    "#%% Define model evaluation function \n",
    "#Eval stats selected from Pontius \"Metrics that make a difference\" book.\n",
    "from sklearn.metrics import r2_score\n",
    "from sklearn.metrics import mean_squared_error\n",
    "from sklearn.metrics import mean_absolute_error\n",
    "\n",
    "def evaluate(model, test_features, test_labels, mod_name):\n",
    "    predictions = model.predict(test_features)\n",
    "    mean_dev = np.mean(predictions) - np.mean(test_labels)\n",
    "    mae = mean_absolute_error(test_labels, predictions)\n",
    "    pearson = stats.pearsonr(predictions, test_labels.ravel())[0]\n",
    "    slope = np.sum(np.multiply((test_labels - test_labels.mean()),\\\n",
    "                            np.reshape(predictions - predictions.mean(),(-1,1))))\\\n",
    "        / np.sum(np.square((test_labels - test_labels.mean())))\n",
    "    r2 = r2_score(test_labels, predictions)\n",
    "    rmse = mean_squared_error(test_labels, predictions)\n",
    "    print('Model Performance')\n",
    "    print('Mean Deviation: {:0.3f}'.format(np.mean(mean_dev)))\n",
    "    print('Mean Absolute Error: {:0.3f}'.format(mae))\n",
    "    print('RMSE: {:0.3f}'.format(rmse))\n",
    "    print('Slope = {:0.3f}'.format(slope))\n",
    "    print('Pearson correlation = {:0.3f}'.format(pearson))\n",
    "    print('r2 = {:0.3f}'.format(r2))\n",
    "    values = [mean_dev, mae, rmse, slope, pearson, r2]\n",
    "    metrics = pd.DataFrame(values, \n",
    "                           columns = ['statistic'])\n",
    "    metrics.index = ['MeanDeviation','MAE','RMSE', 'Slope',\n",
    "               'Pearson', 'r2']"
   ]
  },
  {
   "cell_type": "code",
   "execution_count": null,
   "metadata": {},
   "outputs": [],
   "source": [
    "#lazy regressor analysis\n",
    "reg = LazyRegressor(verbose=0, ignore_warnings=False, custom_metric=None)\n",
    "models, predictions = reg.fit(x_train, x_test, y_train, y_test)\n",
    "\n",
    "print(models)"
   ]
  }
 ],
 "metadata": {
  "language_info": {
   "name": "python"
  }
 },
 "nbformat": 4,
 "nbformat_minor": 2
}
