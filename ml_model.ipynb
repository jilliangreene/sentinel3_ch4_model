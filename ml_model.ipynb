{
 "cells": [
  {
   "cell_type": "code",
   "execution_count": 141,
   "metadata": {},
   "outputs": [
    {
     "name": "stdout",
     "output_type": "stream",
     "text": [
      "done\n"
     ]
    }
   ],
   "source": [
    "import numpy as np \n",
    "import pandas as pd\n",
    "from sklearn.linear_model import LinearRegression\n",
    "from sklearn.model_selection import GridSearchCV, KFold\n",
    "from sklearn.model_selection import cross_val_score\n",
    "import seaborn as sns\n",
    "import matplotlib.pyplot as plt\n",
    "from sklearn import preprocessing, svm\n",
    "from sklearn.model_selection import train_test_split\n",
    "from sklearn.ensemble import RandomForestRegressor\n",
    "from scipy import stats\n",
    "from lazypredict.Supervised import LazyRegressor\n",
    "from sklearn.metrics import r2_score\n",
    "from sklearn.metrics import mean_squared_error\n",
    "from sklearn.metrics import mean_absolute_error\n",
    "from joblib import dump\n",
    "\n",
    "print(\"done\")"
   ]
  },
  {
   "cell_type": "code",
   "execution_count": 142,
   "metadata": {},
   "outputs": [
    {
     "name": "stdout",
     "output_type": "stream",
     "text": [
      "235\n"
     ]
    }
   ],
   "source": [
    "# #read csv\n",
    "df = pd.read_csv(\"CH4_ML_dataset_1d.csv\")\n",
    "\n",
    "# # #filter outlier ch4\n",
    "df = df[df['CH4_flux'] < 2000]\n",
    "\n",
    "# #remove chamber data \n",
    "# # Values to remove\n",
    "# values_to_remove = ['1', '2', '5', '6']\n",
    "\n",
    "# # Filter OUT chamber\n",
    "# df = df[~df['Site'].isin(values_to_remove)]\n",
    "\n",
    "# Filter TO chamber only\n",
    "# df = df[df['Site'].isin(values_to_remove)]\n",
    "\n",
    "# # Group and average data to remove triplicates\n",
    "df = df.groupby(['Date', 'Site'])[['Latitude', 'Longitude', 'CH4_flux', 'CI', 'Chla.y', 'PAR', 'Kd490', \n",
    "                                   'rtoa1', 'rtoa2', 'rtoa3', 'rtoa4', 'rtoa5', 'rtoa6', 'rtoa7', 'rtoa8', \n",
    "                                   'rtoa9', 'rtoa10', 'rtoa11', 'ADG443', 'TSM', 'pr', 'pr3', 'pr5', 'pr7', \n",
    "                                   'tmmx', 'vs']].mean()\n",
    "df = df.reset_index()\n",
    "\n",
    "#first 5 rows\n",
    "# df.head()\n",
    "\n",
    "#num of rows\n",
    "print(len(df))\n",
    "\n",
    "#col names\n",
    "# print(list(df))\n",
    "\n",
    "#num of NAs\n",
    "# print(df.isna().sum())\n"
   ]
  },
  {
   "cell_type": "code",
   "execution_count": 143,
   "metadata": {},
   "outputs": [],
   "source": [
    "#remove 2 NA rows if using PR 5 or 7\n",
    "df = df.dropna()\n",
    "\n",
    "features = df[['CI', 'Chla.y', 'PAR', 'Kd490', 'ADG443', 'TSM', 'pr5', 'tmmx', 'vs']]\n",
    "\n",
    "feature_names = ['CI', 'Chla.y', 'PAR', 'Kd490', 'ADG443', 'TSM', 'pr5', 'tmmx', 'vs']\n",
    "\n",
    "features = features.to_numpy()\n",
    "\n",
    "ch4 = df[[\"CH4_flux\"]].to_numpy()\n",
    "\n",
    "#try log transform\n",
    "ln_ch4 = np.log(ch4)\n",
    "#fill NAs (negatives) to 0 \n",
    "ln_ch4 = np.nan_to_num(ln_ch4, nan=0)\n",
    "\n",
    "site = df[[\"Site\"]].to_numpy()\n",
    "\n",
    "rs = 621\n",
    "\n",
    "#max and min of ch4 \n",
    "# min_val = np.min(ln_ch4)\n",
    "# max_val = np.max(ln_ch4)\n",
    "\n",
    "# print(\"Minimum value:\", min_val)\n",
    "# print(\"Maximum value:\", max_val)"
   ]
  },
  {
   "cell_type": "code",
   "execution_count": 144,
   "metadata": {},
   "outputs": [],
   "source": [
    "#%% INITIAL TRAIN-TEST SPLIT (holdout 10% for final training)\n",
    "from sklearn.model_selection import train_test_split\n",
    "\n",
    "x_train, x_test, y_train, y_test, site_train, site_test = train_test_split(\n",
    "    features, ch4, site, test_size = 0.1, random_state = rs)\n"
   ]
  },
  {
   "cell_type": "code",
   "execution_count": 133,
   "metadata": {},
   "outputs": [
    {
     "name": "stderr",
     "output_type": "stream",
     "text": [
      " 29%|██▊       | 12/42 [00:00<00:02, 13.70it/s]"
     ]
    },
    {
     "name": "stdout",
     "output_type": "stream",
     "text": [
      "GammaRegressor model failed to execute\n",
      "Some value(s) of y are out of the valid range of the loss 'HalfGammaLoss'.\n"
     ]
    },
    {
     "name": "stderr",
     "output_type": "stream",
     "text": [
      " 62%|██████▏   | 26/42 [00:01<00:01, 10.55it/s]"
     ]
    },
    {
     "name": "stdout",
     "output_type": "stream",
     "text": [
      "PoissonRegressor model failed to execute\n",
      "Some value(s) of y are out of the valid range of the loss 'HalfPoissonLoss'.\n"
     ]
    },
    {
     "name": "stderr",
     "output_type": "stream",
     "text": [
      "100%|██████████| 42/42 [00:03<00:00, 13.29it/s]"
     ]
    },
    {
     "name": "stdout",
     "output_type": "stream",
     "text": [
      "[LightGBM] [Info] Auto-choosing col-wise multi-threading, the overhead of testing was 0.000050 seconds.\n",
      "You can set `force_col_wise=true` to remove the overhead.\n",
      "[LightGBM] [Info] Total Bins 356\n",
      "[LightGBM] [Info] Number of data points in the train set: 209, number of used features: 9\n",
      "[LightGBM] [Info] Start training from score 22.624160\n",
      "[LightGBM] [Warning] No further splits with positive gain, best gain: -inf\n",
      "[LightGBM] [Warning] No further splits with positive gain, best gain: -inf\n",
      "[LightGBM] [Warning] No further splits with positive gain, best gain: -inf\n",
      "[LightGBM] [Warning] No further splits with positive gain, best gain: -inf\n",
      "[LightGBM] [Warning] No further splits with positive gain, best gain: -inf\n",
      "[LightGBM] [Warning] No further splits with positive gain, best gain: -inf\n",
      "[LightGBM] [Warning] No further splits with positive gain, best gain: -inf\n",
      "[LightGBM] [Warning] No further splits with positive gain, best gain: -inf\n",
      "[LightGBM] [Warning] No further splits with positive gain, best gain: -inf\n",
      "[LightGBM] [Warning] No further splits with positive gain, best gain: -inf\n",
      "[LightGBM] [Warning] No further splits with positive gain, best gain: -inf\n",
      "[LightGBM] [Warning] No further splits with positive gain, best gain: -inf\n",
      "[LightGBM] [Warning] No further splits with positive gain, best gain: -inf\n",
      "[LightGBM] [Warning] No further splits with positive gain, best gain: -inf\n",
      "[LightGBM] [Warning] No further splits with positive gain, best gain: -inf\n",
      "[LightGBM] [Warning] No further splits with positive gain, best gain: -inf\n",
      "[LightGBM] [Warning] No further splits with positive gain, best gain: -inf\n",
      "[LightGBM] [Warning] No further splits with positive gain, best gain: -inf\n",
      "[LightGBM] [Warning] No further splits with positive gain, best gain: -inf\n",
      "[LightGBM] [Warning] No further splits with positive gain, best gain: -inf\n",
      "[LightGBM] [Warning] No further splits with positive gain, best gain: -inf\n",
      "[LightGBM] [Warning] No further splits with positive gain, best gain: -inf\n",
      "[LightGBM] [Warning] No further splits with positive gain, best gain: -inf\n",
      "[LightGBM] [Warning] No further splits with positive gain, best gain: -inf\n",
      "[LightGBM] [Warning] No further splits with positive gain, best gain: -inf\n",
      "[LightGBM] [Warning] No further splits with positive gain, best gain: -inf\n",
      "[LightGBM] [Warning] No further splits with positive gain, best gain: -inf\n",
      "[LightGBM] [Warning] No further splits with positive gain, best gain: -inf\n",
      "[LightGBM] [Warning] No further splits with positive gain, best gain: -inf\n",
      "[LightGBM] [Warning] No further splits with positive gain, best gain: -inf\n",
      "[LightGBM] [Warning] No further splits with positive gain, best gain: -inf\n",
      "[LightGBM] [Warning] No further splits with positive gain, best gain: -inf\n",
      "[LightGBM] [Warning] No further splits with positive gain, best gain: -inf\n",
      "[LightGBM] [Warning] No further splits with positive gain, best gain: -inf\n",
      "[LightGBM] [Warning] No further splits with positive gain, best gain: -inf\n",
      "[LightGBM] [Warning] No further splits with positive gain, best gain: -inf\n",
      "[LightGBM] [Warning] No further splits with positive gain, best gain: -inf\n",
      "[LightGBM] [Warning] No further splits with positive gain, best gain: -inf\n",
      "[LightGBM] [Warning] No further splits with positive gain, best gain: -inf\n",
      "[LightGBM] [Warning] No further splits with positive gain, best gain: -inf\n",
      "[LightGBM] [Warning] No further splits with positive gain, best gain: -inf\n",
      "[LightGBM] [Warning] No further splits with positive gain, best gain: -inf\n",
      "[LightGBM] [Warning] No further splits with positive gain, best gain: -inf\n",
      "[LightGBM] [Warning] No further splits with positive gain, best gain: -inf\n",
      "[LightGBM] [Warning] No further splits with positive gain, best gain: -inf\n",
      "[LightGBM] [Warning] No further splits with positive gain, best gain: -inf\n",
      "[LightGBM] [Warning] No further splits with positive gain, best gain: -inf\n",
      "[LightGBM] [Warning] No further splits with positive gain, best gain: -inf\n",
      "[LightGBM] [Warning] No further splits with positive gain, best gain: -inf\n",
      "[LightGBM] [Warning] No further splits with positive gain, best gain: -inf\n",
      "[LightGBM] [Warning] No further splits with positive gain, best gain: -inf\n",
      "[LightGBM] [Warning] No further splits with positive gain, best gain: -inf\n",
      "[LightGBM] [Warning] No further splits with positive gain, best gain: -inf\n",
      "[LightGBM] [Warning] No further splits with positive gain, best gain: -inf\n",
      "[LightGBM] [Warning] No further splits with positive gain, best gain: -inf\n",
      "[LightGBM] [Warning] No further splits with positive gain, best gain: -inf\n",
      "[LightGBM] [Warning] No further splits with positive gain, best gain: -inf\n",
      "[LightGBM] [Warning] No further splits with positive gain, best gain: -inf\n",
      "[LightGBM] [Warning] No further splits with positive gain, best gain: -inf\n",
      "[LightGBM] [Warning] No further splits with positive gain, best gain: -inf\n",
      "[LightGBM] [Warning] No further splits with positive gain, best gain: -inf\n",
      "[LightGBM] [Warning] No further splits with positive gain, best gain: -inf\n",
      "[LightGBM] [Warning] No further splits with positive gain, best gain: -inf\n",
      "[LightGBM] [Warning] No further splits with positive gain, best gain: -inf\n",
      "[LightGBM] [Warning] No further splits with positive gain, best gain: -inf\n",
      "[LightGBM] [Warning] No further splits with positive gain, best gain: -inf\n",
      "[LightGBM] [Warning] No further splits with positive gain, best gain: -inf\n",
      "[LightGBM] [Warning] No further splits with positive gain, best gain: -inf\n",
      "[LightGBM] [Warning] No further splits with positive gain, best gain: -inf\n",
      "[LightGBM] [Warning] No further splits with positive gain, best gain: -inf\n",
      "[LightGBM] [Warning] No further splits with positive gain, best gain: -inf\n",
      "[LightGBM] [Warning] No further splits with positive gain, best gain: -inf\n",
      "[LightGBM] [Warning] No further splits with positive gain, best gain: -inf\n",
      "[LightGBM] [Warning] No further splits with positive gain, best gain: -inf\n",
      "[LightGBM] [Warning] No further splits with positive gain, best gain: -inf\n",
      "[LightGBM] [Warning] No further splits with positive gain, best gain: -inf\n",
      "[LightGBM] [Warning] No further splits with positive gain, best gain: -inf\n",
      "[LightGBM] [Warning] No further splits with positive gain, best gain: -inf\n",
      "[LightGBM] [Warning] No further splits with positive gain, best gain: -inf\n",
      "[LightGBM] [Warning] No further splits with positive gain, best gain: -inf\n",
      "[LightGBM] [Warning] No further splits with positive gain, best gain: -inf\n",
      "[LightGBM] [Warning] No further splits with positive gain, best gain: -inf\n",
      "[LightGBM] [Warning] No further splits with positive gain, best gain: -inf\n",
      "[LightGBM] [Warning] No further splits with positive gain, best gain: -inf\n",
      "[LightGBM] [Warning] No further splits with positive gain, best gain: -inf\n",
      "[LightGBM] [Warning] No further splits with positive gain, best gain: -inf\n",
      "[LightGBM] [Warning] No further splits with positive gain, best gain: -inf\n",
      "[LightGBM] [Warning] No further splits with positive gain, best gain: -inf\n",
      "[LightGBM] [Warning] No further splits with positive gain, best gain: -inf\n",
      "[LightGBM] [Warning] No further splits with positive gain, best gain: -inf\n",
      "[LightGBM] [Warning] No further splits with positive gain, best gain: -inf\n",
      "[LightGBM] [Warning] No further splits with positive gain, best gain: -inf\n",
      "[LightGBM] [Warning] No further splits with positive gain, best gain: -inf\n",
      "[LightGBM] [Warning] No further splits with positive gain, best gain: -inf\n",
      "[LightGBM] [Warning] No further splits with positive gain, best gain: -inf\n",
      "[LightGBM] [Warning] No further splits with positive gain, best gain: -inf\n",
      "[LightGBM] [Warning] No further splits with positive gain, best gain: -inf\n",
      "[LightGBM] [Warning] No further splits with positive gain, best gain: -inf\n",
      "[LightGBM] [Warning] No further splits with positive gain, best gain: -inf\n",
      "[LightGBM] [Warning] No further splits with positive gain, best gain: -inf\n",
      "                               Adjusted R-Squared  R-Squared    RMSE  \\\n",
      "Model                                                                  \n",
      "ExtraTreesRegressor                          0.04       0.42   16.96   \n",
      "RandomForestRegressor                       -0.08       0.34   17.98   \n",
      "HistGradientBoostingRegressor               -0.12       0.32   18.30   \n",
      "GradientBoostingRegressor                   -0.13       0.31   18.38   \n",
      "BaggingRegressor                            -0.25       0.24   19.38   \n",
      "MLPRegressor                                -0.28       0.22   19.56   \n",
      "XGBRegressor                                -0.43       0.13   20.71   \n",
      "LGBMRegressor                               -0.44       0.13   20.74   \n",
      "HuberRegressor                              -0.60       0.03   21.86   \n",
      "NuSVR                                       -0.60       0.03   21.90   \n",
      "ElasticNet                                  -0.62       0.01   22.04   \n",
      "TweedieRegressor                            -0.63       0.01   22.06   \n",
      "LassoLarsCV                                 -0.63       0.01   22.08   \n",
      "LarsCV                                      -0.63       0.01   22.08   \n",
      "LassoCV                                     -0.63       0.01   22.08   \n",
      "ElasticNetCV                                -0.63       0.01   22.08   \n",
      "Lasso                                       -0.63       0.01   22.09   \n",
      "LassoLars                                   -0.63       0.01   22.09   \n",
      "LassoLarsIC                                 -0.63       0.01   22.09   \n",
      "OrthogonalMatchingPursuit                   -0.64       0.00   22.15   \n",
      "BayesianRidge                               -0.65      -0.01   22.26   \n",
      "RidgeCV                                     -0.66      -0.01   22.27   \n",
      "Ridge                                       -0.67      -0.01   22.34   \n",
      "Lars                                        -0.67      -0.02   22.35   \n",
      "LinearRegression                            -0.67      -0.02   22.35   \n",
      "TransformedTargetRegressor                  -0.67      -0.02   22.35   \n",
      "SGDRegressor                                -0.67      -0.02   22.37   \n",
      "OrthogonalMatchingPursuitCV                 -0.69      -0.03   22.47   \n",
      "ExtraTreeRegressor                          -0.82      -0.11   23.36   \n",
      "SVR                                         -0.84      -0.12   23.50   \n",
      "DummyRegressor                              -0.89      -0.15   23.80   \n",
      "LinearSVR                                   -0.91      -0.16   23.94   \n",
      "AdaBoostRegressor                           -0.97      -0.20   24.27   \n",
      "QuantileRegressor                           -1.00      -0.21   24.44   \n",
      "PassiveAggressiveRegressor                  -1.00      -0.22   24.48   \n",
      "KernelRidge                                 -1.24      -0.36   25.90   \n",
      "KNeighborsRegressor                         -2.41      -1.07   31.94   \n",
      "RANSACRegressor                             -3.38      -1.67   36.22   \n",
      "DecisionTreeRegressor                       -4.48      -2.34   40.51   \n",
      "GaussianProcessRegressor                -27568.74  -16780.58 2873.26   \n",
      "\n",
      "                               Time Taken  \n",
      "Model                                      \n",
      "ExtraTreesRegressor                  0.19  \n",
      "RandomForestRegressor                0.26  \n",
      "HistGradientBoostingRegressor        0.14  \n",
      "GradientBoostingRegressor            0.14  \n",
      "BaggingRegressor                     0.08  \n",
      "MLPRegressor                         0.65  \n",
      "XGBRegressor                         0.15  \n",
      "LGBMRegressor                        0.05  \n",
      "HuberRegressor                       0.02  \n",
      "NuSVR                                0.02  \n",
      "ElasticNet                           0.03  \n",
      "TweedieRegressor                     0.01  \n",
      "LassoLarsCV                          0.03  \n",
      "LarsCV                               0.03  \n",
      "LassoCV                              0.10  \n",
      "ElasticNetCV                         0.15  \n",
      "Lasso                                0.01  \n",
      "LassoLars                            0.01  \n",
      "LassoLarsIC                          0.02  \n",
      "OrthogonalMatchingPursuit            0.02  \n",
      "BayesianRidge                        0.02  \n",
      "RidgeCV                              0.02  \n",
      "Ridge                                0.01  \n",
      "Lars                                 0.02  \n",
      "LinearRegression                     0.02  \n",
      "TransformedTargetRegressor           0.01  \n",
      "SGDRegressor                         0.01  \n",
      "OrthogonalMatchingPursuitCV          0.02  \n",
      "ExtraTreeRegressor                   0.01  \n",
      "SVR                                  0.02  \n",
      "DummyRegressor                       0.04  \n",
      "LinearSVR                            0.02  \n",
      "AdaBoostRegressor                    0.11  \n",
      "QuantileRegressor                    0.38  \n",
      "PassiveAggressiveRegressor           0.01  \n",
      "KernelRidge                          0.03  \n",
      "KNeighborsRegressor                  0.02  \n",
      "RANSACRegressor                      0.16  \n",
      "DecisionTreeRegressor                0.03  \n",
      "GaussianProcessRegressor             0.03  \n"
     ]
    },
    {
     "name": "stderr",
     "output_type": "stream",
     "text": [
      "\n"
     ]
    }
   ],
   "source": [
    "#lazy regressor analysis of all models\n",
    "reg = LazyRegressor(verbose=0, ignore_warnings=False, custom_metric=None)\n",
    "models, predictions = reg.fit(x_train, x_test, y_train, y_test)\n",
    "\n",
    "print(models)"
   ]
  },
  {
   "cell_type": "code",
   "execution_count": 145,
   "metadata": {},
   "outputs": [
    {
     "name": "stdout",
     "output_type": "stream",
     "text": [
      "RF Mean Absolute Error: 14.231698907620745\n",
      "RF R-squared: 0.38468731694187575\n",
      "ETR Mean Absolute Error: 11.887641484830354\n",
      "ETR R-squared: 0.539566619640329\n"
     ]
    },
    {
     "data": {
      "text/plain": [
       "['etr_example.joblib']"
      ]
     },
     "execution_count": 145,
     "metadata": {},
     "output_type": "execute_result"
    }
   ],
   "source": [
    "# Create a Random Forest Regressor model\n",
    "rf_regressor = RandomForestRegressor(n_estimators=110, random_state= rs)\n",
    "\n",
    "# Train the model\n",
    "rf_regressor.fit(x_train, y_train)\n",
    "\n",
    "# Make predictions on the test set\n",
    "y_pred = rf_regressor.predict(x_test)\n",
    "\n",
    "# Evaluate the model using R-squared\n",
    "rf_r2 = r2_score(y_test, y_pred)\n",
    "rf_mse = mean_absolute_error(y_test, y_pred)\n",
    "print(f\"RF Mean Absolute Error: {rf_mse}\")\n",
    "print(\"RF R-squared:\", rf_r2)\n",
    "\n",
    "from sklearn.ensemble import ExtraTreesRegressor\n",
    "etr = ExtraTreesRegressor(n_estimators=100, random_state=rs)\n",
    "\n",
    "# Train the model\n",
    "etr.fit(x_train, y_train)\n",
    "\n",
    "# Make predictions on the test set\n",
    "etr_y_pred = etr.predict(x_test)\n",
    "\n",
    "# Evaluate the model using R-squared\n",
    "etr_r2 = r2_score(y_test, etr_y_pred)\n",
    "etr_mse = mean_absolute_error(y_test, etr_y_pred)\n",
    "print(f\"ETR Mean Absolute Error: {etr_mse}\")\n",
    "print(\"ETR R-squared:\", etr_r2)\n",
    "\n",
    "#dump model for raster testing\n",
    "dump(etr, 'etr_example.joblib')"
   ]
  },
  {
   "cell_type": "code",
   "execution_count": 135,
   "metadata": {},
   "outputs": [
    {
     "data": {
      "image/png": "[encoded data removed]",
      "text/plain": [
       "<Figure size 640x480 with 1 Axes>"
      ]
     },
     "metadata": {},
     "output_type": "display_data"
    }
   ],
   "source": [
    "# Error analysis\n",
    "preds = pd.DataFrame(y_pred, columns=['etr_pred_ch4'])\n",
    "obs = pd.DataFrame(y_test, columns=['ch4'])\n",
    "test_features = pd.DataFrame(x_test, columns=feature_names)\n",
    "\n",
    "error_df = pd.concat([obs.reset_index(drop=True), preds], axis=1)\n",
    "error_df = pd.concat([test_features.reset_index(drop=True), error_df], axis=1)\n",
    "\n",
    "site_names = pd.DataFrame(site_test, columns=[\"Site\"]) \n",
    "error_df = pd.concat([site_names.reset_index(drop=True), error_df], axis=1)\n",
    "\n",
    "# Add a column for site group names\n",
    "error_df[\"site_group\"] = np.where(error_df[\"Site\"].isin([\"1\", \"2\", \"5\", \"6\"]), \"c\", \"d\")\n",
    "\n",
    "# Map site_group to color\n",
    "color_map = {'c': 'blue', 'd': 'green'}\n",
    "colors = error_df['site_group'].map(color_map)\n",
    "\n",
    "plt.scatter(error_df['ch4'], error_df['etr_pred_ch4'], s=20, c=colors)\n",
    "plt.axline((0, 0), (200, 200), linewidth=1, color='black')\n",
    "plt.xscale('log')\n",
    "plt.yscale('log')\n",
    "\n",
    "# Optional: add legend manually\n",
    "for group in color_map:\n",
    "    plt.scatter([], [], c=color_map[group], label=group)\n",
    "plt.legend(title='Site Group')\n",
    "\n",
    "plt.show()"
   ]
  },
  {
   "cell_type": "code",
   "execution_count": 136,
   "metadata": {},
   "outputs": [
    {
     "name": "stdout",
     "output_type": "stream",
     "text": [
      "Cross-Validation Results:\n",
      "R2 Scores: [-1.62141103e+00 -1.28176425e-03  3.41762079e-02 -1.20034191e+00\n",
      " -2.27532720e-02 -1.16793456e+00 -2.47127653e+00 -3.53470574e-01\n",
      "  5.05434844e-01 -5.70280986e+00]\n",
      "MAE Scores: [-18.06510382 -26.11893534 -39.70613842 -40.98494496 -31.10760865\n",
      " -25.78154806 -34.19969246 -24.0708952  -10.32804841 -24.92599538]\n",
      "MAPE Scores: [  -6.33631767  -14.52314927  -32.47348888   -9.16877741  -16.38875073\n",
      " -799.79119372  -16.27730073 -183.59614238  -18.60494901  -10.42104083]\n",
      "\n",
      "Average R2: -1.200166845588655\n",
      "Average MAE: 27.528891068940233\n",
      "Average MAPE: 110.75811106101312\n",
      "ETR Mean Absolute Error: 11.887641484830354\n",
      "ETR R-squared: 0.539566619640329\n"
     ]
    }
   ],
   "source": [
    "# K fold tests\n",
    "from sklearn.model_selection import cross_validate, KFold\n",
    "\n",
    "# Define scoring metrics\n",
    "scoring = {\"R2\": \"r2\", \n",
    "           \"MAE\": \"neg_mean_absolute_error\", \n",
    "           \"MAPE\": \"neg_mean_absolute_percentage_error\"}\n",
    "\n",
    "# Initialize the Extra Trees Regressor\n",
    "etr = ExtraTreesRegressor(n_estimators=100, random_state=rs)\n",
    "\n",
    "# Define K-Fold Cross-Validation\n",
    "kf = KFold(n_splits=10, shuffle=True, random_state=rs)\n",
    "\n",
    "# Perform cross-validation and get the scores for multiple metrics\n",
    "cv_results = cross_validate(etr, x_train, y_train, cv=kf, scoring=scoring)\n",
    "\n",
    "# Print the cross-validation results\n",
    "print(f\"Cross-Validation Results:\")\n",
    "print(f\"R2 Scores: {cv_results['test_R2']}\")\n",
    "print(f\"MAE Scores: {cv_results['test_MAE']}\")\n",
    "print(f\"MAPE Scores: {cv_results['test_MAPE']}\")\n",
    "\n",
    "# Average the scores\n",
    "print(f\"\\nAverage R2: {np.mean(cv_results['test_R2'])}\")\n",
    "print(f\"Average MAE: {-np.mean(cv_results['test_MAE'])}\")  # MAE is negative in scoring, so negate it\n",
    "print(f\"Average MAPE: {-np.mean(cv_results['test_MAPE'])}\") \n",
    "\n",
    "# Train the model on the entire training set\n",
    "etr.fit(x_train, y_train)\n",
    "\n",
    "# Make predictions on the test set\n",
    "y_pred = etr.predict(x_test)\n",
    "\n",
    "# Evaluate the model on the test set\n",
    "etr_mse = mean_absolute_error(y_test, y_pred)\n",
    "etr_r2 = r2_score(y_test, y_pred)\n",
    "print(f\"ETR Mean Absolute Error: {etr_mse}\")\n",
    "print(\"ETR R-squared:\", etr_r2)\n"
   ]
  },
  {
   "cell_type": "code",
   "execution_count": null,
   "metadata": {},
   "outputs": [],
   "source": [
    "#trying bootstrapping\n",
    "from sklearn.utils import resample\n",
    "\n",
    "# Initialize the Extra Trees Regressor\n",
    "etr = ExtraTreesRegressor(n_estimators=100, random_state=rs)\n",
    "\n",
    "# Bootstrap Resampling (1000 iterations)\n",
    "n_iterations = 1000\n",
    "bootstrapped_scores = []\n",
    "\n",
    "for _ in range(n_iterations):\n",
    "    # Generate a bootstrap sample\n",
    "    X_resampled, y_resampled = resample(x_train, y_train, random_state=rs)\n",
    "    \n",
    "    # Train model on the resampled dataset\n",
    "    etr.fit(X_resampled, y_resampled)\n",
    "    \n",
    "    # Evaluate the model\n",
    "    y_pred = etr.predict(x_test)\n",
    "    \n",
    "    # Store the Mean Absolute Error\n",
    "    score = mean_absolute_error(y_test, y_pred)\n",
    "    bootstrapped_scores.append(score)\n",
    "\n",
    "# Compute the mean and standard deviation of the bootstrapped scores\n",
    "mean_bootstrap_score = np.mean(bootstrapped_scores)\n",
    "std_bootstrap_score = np.std(bootstrapped_scores)\n",
    "\n",
    "print(f\"Bootstrapped Mean MAE: {mean_bootstrap_score}\")\n",
    "print(f\"Bootstrapped MAE Standard Deviation: {std_bootstrap_score}\")\n",
    "\n",
    "# Final model training on full training set\n",
    "etr.fit(x_train, y_train)\n",
    "\n",
    "# Evaluate the model on the test set\n",
    "etr_mse = mean_absolute_error(y_test, y_pred)\n",
    "etr_r2 = r2_score(y_test, y_pred)\n",
    "print(f\"ETR Mean Absolute Error: {etr_mse}\")\n",
    "print(\"ETR R-squared:\", etr_r2)"
   ]
  },
  {
   "cell_type": "code",
   "execution_count": 137,
   "metadata": {},
   "outputs": [
    {
     "data": {
      "text/plain": [
       "Text(0.5, 1.0, 'ETR')"
      ]
     },
     "execution_count": 137,
     "metadata": {},
     "output_type": "execute_result"
    },
    {
     "data": {
      "image/png": "[encoded data removed]",
      "text/plain": [
       "<Figure size 640x480 with 1 Axes>"
      ]
     },
     "metadata": {},
     "output_type": "display_data"
    }
   ],
   "source": [
    "#%% FEATURE IMPORTANCE \n",
    "from sklearn.inspection import permutation_importance\n",
    "import seaborn as sns\n",
    "\n",
    "scoring = {\"R2\": \"r2\", \n",
    "           \"MAE\": \"neg_mean_absolute_error\", \n",
    "           \"MAPE\": \"neg_mean_absolute_percentage_error\"}\n",
    "\n",
    "result = permutation_importance(\n",
    "    etr, x_test, y_test,\n",
    "    n_repeats=50, \n",
    "    random_state=rs, \n",
    "    n_jobs=-1,\n",
    "    scoring=scoring)\n",
    "\n",
    "#%% Plot RF importances\n",
    "rf_perm_imp = pd.DataFrame(result['MAE']['importances'], index=feature_names).T\n",
    "\n",
    "perm_imp_long = pd.melt(rf_perm_imp)\n",
    "g = sns.barplot(data = perm_imp_long, x = 'variable',y='value')\n",
    "plt.xticks(rotation=45)\n",
    "plt.title(\"ETR\")"
   ]
  },
  {
   "cell_type": "code",
   "execution_count": 138,
   "metadata": {},
   "outputs": [
    {
     "data": {
      "text/plain": [
       "Text(0.5, 1.0, 'ETR - Discrete Only')"
      ]
     },
     "execution_count": 138,
     "metadata": {},
     "output_type": "execute_result"
    },
    {
     "data": {
      "image/png": "[encoded data removed]",
      "text/plain": [
       "<Figure size 640x480 with 1 Axes>"
      ]
     },
     "metadata": {},
     "output_type": "display_data"
    }
   ],
   "source": [
    "#%% PLOT BEST ETR PERFORMANCE\n",
    "#https://stackoverflow.com/questions/19064772/visualization-of-scatter-plots-with-overlapping-points-in-matplotlib\n",
    "from scipy import stats\n",
    "\n",
    "values = np.vstack([y_test.ravel(), y_pred.ravel()])\n",
    "kernel = stats.gaussian_kde(values, bw_method=.02)(values)\n",
    "\n",
    "plt.scatter(y_test, y_pred, s=20)\n",
    "plt.axline((0,0), (500,500), linewidth=1, color='black')\n",
    "# plt.axis((0,50,0,50))\n",
    "plt.xscale('log')\n",
    "plt.yscale('log')\n",
    "plt.title(\"ETR - Discrete Only\")\n",
    "\n",
    "# plt.savefig('log_randomforest_plot.png')"
   ]
  },
  {
   "cell_type": "code",
   "execution_count": null,
   "metadata": {},
   "outputs": [],
   "source": [
    "#%% RANDOM SEARCH CV ETR\n",
    "from sklearn.model_selection import RandomizedSearchCV\n",
    "\n",
    "#define scoring metrics\n",
    "scoring = {\"R2\": \"r2\", \n",
    "           \"MAE\": \"neg_mean_absolute_error\", \n",
    "           \"MAPE\": \"neg_mean_absolute_percentage_error\"}\n",
    "\n",
    "\n",
    "# Number of trees in random forest\n",
    "n_estimators = [int(x) for x in np.linspace(start = 10, stop = 1500, num = 10)]\n",
    "# Number of features to consider at every split\n",
    "max_features = ['log2', 'sqrt', 1.0]\n",
    "# Maximum number of levels in tree\n",
    "max_depth = [int(x) for x in np.linspace(10, 110, num = 11)]\n",
    "max_depth.append(None)\n",
    "# Minimum number of samples required to split a node\n",
    "min_samples_split = [2, 4, 7, 10]\n",
    "# Minimum number of samples required at each leaf node\n",
    "min_samples_leaf = [1, 2, 4, 7, 10]\n",
    "\n",
    "# Create the random grid\n",
    "random_grid = {'n_estimators': n_estimators,\n",
    "               'max_features': max_features,\n",
    "               'max_depth': max_depth,\n",
    "               'min_samples_split': min_samples_split,\n",
    "               'min_samples_leaf': min_samples_leaf}\n",
    "# pprint(random_grid)\n",
    "\n",
    "# Use the random grid to search for best hyperparameters\n",
    "# First create the base model to tune\n",
    "etr = ExtraTreesRegressor()\n",
    "# Random search of parameters, using 3 fold cross validation, \n",
    "# search across 100 different combinations, and use all available cores\n",
    "etr_random = RandomizedSearchCV(estimator = etr, \n",
    "                               param_distributions = random_grid, \n",
    "                               n_iter = 100, cv = 3, \n",
    "                               verbose=2, scoring = scoring,\n",
    "                                refit = \"MAE\",\n",
    "                               random_state=rs, n_jobs = -1)\n",
    "\n",
    "# Fit the random search model\n",
    "etr_random.fit(x_train, y_train.ravel())\n",
    "\n",
    "#%%\n",
    "etr_random.best_params_"
   ]
  },
  {
   "cell_type": "code",
   "execution_count": 140,
   "metadata": {},
   "outputs": [
    {
     "name": "stdout",
     "output_type": "stream",
     "text": [
      "ETR Mean Absolute Error: 12.22805653810431\n",
      "ETR R-squared: 0.4778586632718813\n"
     ]
    }
   ],
   "source": [
    "# Best ETR\n",
    "# Create an Extra Trees Regressor model\n",
    "best_etr = ExtraTreesRegressor(n_estimators=600, \n",
    "                          min_samples_split = 2,\n",
    "                          min_samples_leaf = 1,\n",
    "                          max_features = 'sqrt',\n",
    "                          max_depth = 30,\n",
    "                          random_state=rs)\n",
    "\n",
    "# Train the model\n",
    "best_etr.fit(x_train, y_train)\n",
    "\n",
    "# Make predictions on the test set\n",
    "y_pred = best_etr.predict(x_test)\n",
    "\n",
    "# Evaluate the model\n",
    "etr_mse = mean_absolute_error(y_test, y_pred)\n",
    "etr_r2 = r2_score(y_test, y_pred)\n",
    "print(f\"ETR Mean Absolute Error: {etr_mse}\")\n",
    "print(\"ETR R-squared:\", etr_r2)"
   ]
  },
  {
   "cell_type": "code",
   "execution_count": 129,
   "metadata": {},
   "outputs": [
    {
     "data": {
      "text/plain": [
       "Text(0.5, 1.0, 'Best ETR')"
      ]
     },
     "execution_count": 129,
     "metadata": {},
     "output_type": "execute_result"
    },
    {
     "data": {
      "image/png": "[encoded data removed]",
      "text/plain": [
       "<Figure size 640x480 with 1 Axes>"
      ]
     },
     "metadata": {},
     "output_type": "display_data"
    }
   ],
   "source": [
    "result = permutation_importance(\n",
    "    best_etr, x_test, y_test,\n",
    "    n_repeats=50, \n",
    "    random_state=rs, \n",
    "    n_jobs=-1,\n",
    "    scoring=scoring)\n",
    "\n",
    "#%% Plot RF importances\n",
    "rf_perm_imp = pd.DataFrame(result['MAE']['importances'], index=feature_names).T\n",
    "\n",
    "perm_imp_long = pd.melt(rf_perm_imp)\n",
    "g = sns.barplot(data = perm_imp_long, x = 'variable',y='value')\n",
    "plt.xticks(rotation=45)\n",
    "plt.title(\"Best ETR\")"
   ]
  },
  {
   "cell_type": "code",
   "execution_count": null,
   "metadata": {},
   "outputs": [],
   "source": [
    "# #write obs vs pred to csv for manual stat calc\n",
    "best_rf_csv = pd.DataFrame(y_pred, columns=['pred_ch4'])\n",
    "y_test_csv = pd.DataFrame(y_test, columns=['ch4'])\n",
    "best_rf_csv = pd.concat([y_test_csv.reset_index(drop=True), best_rf_csv], axis=1)\n",
    "\n",
    "best_rf_csv.to_csv('etr_obs_vs_pred.csv', index = False)"
   ]
  },
  {
   "cell_type": "code",
   "execution_count": null,
   "metadata": {},
   "outputs": [
    {
     "data": {
      "image/png": "[encoded data removed]",
      "text/plain": [
       "<Figure size 640x480 with 1 Axes>"
      ]
     },
     "metadata": {},
     "output_type": "display_data"
    }
   ],
   "source": [
    "# Error analysis plot\n",
    "# plt.scatter(error_df['ch4'], error_df['etr_pred_ch4'], s=20, c = error_df['site_group'])\n",
    "# plt.axline((0,0), (200,200), linewidth=1, color='black')\n",
    "# # plt.legend(loc='upper left')\n",
    "# plt.colorbar()\n",
    "# plt.xscale('log')\n",
    "# plt.yscale('log')\n",
    "# plt.show()\n"
   ]
  }
 ],
 "metadata": {
  "kernelspec": {
   "display_name": "venv",
   "language": "python",
   "name": "python3"
  },
  "language_info": {
   "codemirror_mode": {
    "name": "ipython",
    "version": 3
   },
   "file_extension": ".py",
   "mimetype": "text/x-python",
   "name": "python",
   "nbconvert_exporter": "python",
   "pygments_lexer": "ipython3",
   "version": "3.12.7"
  }
 },
 "nbformat": 4,
 "nbformat_minor": 2
}
