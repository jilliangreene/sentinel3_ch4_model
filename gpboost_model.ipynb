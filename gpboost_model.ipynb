{
 "cells": [
  {
   "cell_type": "code",
   "execution_count": null,
   "id": "83c36c88",
   "metadata": {},
   "outputs": [],
   "source": [
    "#%% IMPORT LIBRARIES\n",
    "\n",
    "#import sklearn\n",
    "import pandas as pd\n",
    "import numpy as np\n",
    "import matplotlib.pyplot as plt\n",
    "from scipy import stats\n",
    "import seaborn as sns\n",
    "import gpboost as gpb #https://github.com/fabsig/GPBoost/tree/master; https://github.com/fabsig/GPBoost/blob/master/examples/python-guide/GPBoost_algorithm.py\n",
    "import time\n",
    "\n",
    "#%% Set seaborn theme and random state\n",
    "sns.set_theme(context='paper', style = 'ticks',font_scale=1.2)\n",
    "rs = 621"
   ]
  },
  {
   "cell_type": "code",
   "execution_count": 76,
   "id": "a8750a2e",
   "metadata": {},
   "outputs": [
    {
     "name": "stdout",
     "output_type": "stream",
     "text": [
      "235\n"
     ]
    }
   ],
   "source": [
    "# #read csv\n",
    "df = pd.read_csv(\"CH4_ML_dataset_1d.csv\")\n",
    "# # #filter outlier ch4\n",
    "df = df[df['CH4_flux'] < 2000]\n",
    "\n",
    "# #remove chamber data \n",
    "# # Values to remove\n",
    "# values_to_remove = ['1', '2', '5', '6']\n",
    "\n",
    "# # Filter OUT chamber\n",
    "# df = df[~df['Site'].isin(values_to_remove)]\n",
    "\n",
    "# Filter TO chamber only\n",
    "# df = df[df['Site'].isin(values_to_remove)]\n",
    "\n",
    "# # Group and average data to remove triplicates\n",
    "df = df.groupby(['Date', 'Site'])[['Latitude', 'Longitude', 'CH4_flux', 'CI', 'Chla.y', 'PAR', 'Kd490', \n",
    "                                   'rtoa1', 'rtoa2', 'rtoa3', 'rtoa4', 'rtoa5', 'rtoa6', 'rtoa7', 'rtoa8', \n",
    "                                   'rtoa9', 'rtoa10', 'rtoa11', 'ADG443', 'TSM', 'pr', 'pr3', 'pr5', 'pr7', \n",
    "                                   'tmmx', 'vs']].mean()\n",
    "df = df.reset_index()\n",
    "\n",
    "# Create lake column for gpboost\n",
    "# Define your conditions\n",
    "conditions = [\n",
    "    df['Site'].astype(str).str.contains('Muskegon') | (df['Site'] == 1) | (df['Site'] == 6),\n",
    "    df['Site'].astype(str).str.contains('Macatawa') | (df['Site'] == 5),\n",
    "    df['Site'].astype(str).str.contains('White') | (df['Site'] == 2)\n",
    "]\n",
    "\n",
    "# Corresponding values for each condition\n",
    "values = [2, 1, 3]\n",
    "\n",
    "# Create the new column\n",
    "df['lake'] = np.select(conditions, values, default=np.nan)\n",
    "\n",
    "# Create DOY\n",
    "df['Date'] = pd.to_datetime(df['Date'])\n",
    "\n",
    "# Create the doy column\n",
    "df['doy'] = df['Date'].dt.dayofyear\n",
    "\n",
    "#first 5 rows\n",
    "# df.head()\n",
    "\n",
    "#num of rows\n",
    "print(len(df))\n",
    "\n",
    "#col names\n",
    "# print(list(df))\n",
    "\n",
    "#num of NAs\n",
    "# print(df.isna().sum())"
   ]
  },
  {
   "cell_type": "code",
   "execution_count": 77,
   "id": "f1f592c8",
   "metadata": {},
   "outputs": [
    {
     "name": "stderr",
     "output_type": "stream",
     "text": [
      "/var/folders/xk/lzn0nr0161s2v_y7sxmrywgw0000gn/T/ipykernel_6383/1389779823.py:17: RuntimeWarning: invalid value encountered in log\n",
      "  ln_ch4 = np.log(ch4)\n"
     ]
    }
   ],
   "source": [
    "#remove 2 NA rows if using PR 5 or 7\n",
    "# df = df.dropna()\n",
    "\n",
    "features = df[['CI', 'Chla.y', 'PAR', 'Kd490', 'ADG443', 'TSM', 'pr5', 'tmmx', 'vs']]\n",
    "\n",
    "feature_names = ['CI', 'Chla.y', 'PAR', 'Kd490', 'ADG443', 'TSM', 'pr5', 'tmmx', 'vs']\n",
    "\n",
    "features = features.to_numpy()\n",
    "\n",
    "ch4 = df[\"CH4_flux\"].to_numpy()\n",
    "\n",
    "time = df['doy'].to_numpy()\n",
    "\n",
    "lake = df['lake'].to_numpy()\n",
    "\n",
    "#try log transform\n",
    "ln_ch4 = np.log(ch4)\n",
    "#fill NAs (negatives) to 0 \n",
    "ln_ch4 = np.nan_to_num(ln_ch4, nan=0)\n",
    "\n",
    "site = df[[\"Site\"]].to_numpy()\n",
    "\n",
    "rs = 621"
   ]
  },
  {
   "cell_type": "code",
   "execution_count": 78,
   "id": "28dacc9d",
   "metadata": {},
   "outputs": [
    {
     "name": "stdout",
     "output_type": "stream",
     "text": [
      "24\n",
      "211\n"
     ]
    }
   ],
   "source": [
    "#%% INITIAL TRAIN-TEST SPLIT (holdout 10% for final training)\n",
    "from sklearn.model_selection import train_test_split\n",
    "\n",
    "x_train, x_test, y_train, y_test, t_train, t_test, lake_train, lake_test = train_test_split(\n",
    "    features, ch4, time, lake, test_size = 0.1, random_state = rs)\n",
    "\n",
    "print(len(x_test))\n",
    "print(len(x_train))"
   ]
  },
  {
   "cell_type": "code",
   "execution_count": 79,
   "id": "87f5e5b2",
   "metadata": {},
   "outputs": [],
   "source": [
    "#%% Define model evaluation function \n",
    "#Eval stats selected from Pontius \"Metrics that make a difference\" book.\n",
    "from sklearn.metrics import r2_score\n",
    "from sklearn.metrics import mean_squared_error\n",
    "from sklearn.metrics import mean_absolute_error\n",
    "\n",
    "def evaluate(test_labels, predictions,  mod_name):\n",
    "    mean_dev = np.mean(predictions) - np.mean(test_labels)\n",
    "    mae = mean_absolute_error(test_labels, predictions)\n",
    "    pearson = stats.pearsonr(predictions, test_labels.ravel())[0]\n",
    "    slope, i = np.polyfit(test_labels,predictions,1)\n",
    "    r2 = r2_score(test_labels, predictions)\n",
    "    rmse = mean_squared_error(test_labels, predictions)\n",
    "    print('Model Performance')\n",
    "    print('Mean Deviation: {:0.3f}'.format(np.mean(mean_dev)))\n",
    "    print('Mean Absolute Error: {:0.3f}'.format(mae))\n",
    "    print('RMSE: {:0.3f}'.format(rmse))\n",
    "    print('Slope = {:0.3f}'.format(slope))\n",
    "    print('Pearson correlation = {:0.3f}'.format(pearson))\n",
    "    print('r2 = {:0.3f}'.format(r2))\n",
    "    values = [mean_dev, mae, rmse, slope, pearson, r2]\n",
    "    metrics = pd.DataFrame(values, \n",
    "                           columns = ['statistic'])\n",
    "    metrics.index = ['MeanDeviation','MAE','RMSE', 'Slope',\n",
    "               'Pearson', 'r2']\n",
    "    # metrics.to_csv('data/results/model_statistics_' + mod_name +'.csv', index=True)"
   ]
  },
  {
   "cell_type": "code",
   "execution_count": 80,
   "id": "3012b2a4",
   "metadata": {},
   "outputs": [],
   "source": [
    "#%% GPBOOST - Grid search tuning and cv boost function\n",
    "\n",
    "# arguments = split type, experiment name (e.g. Landsat, year splits)\n",
    "# returns a dictionary of best parameters and model performance metrics\n",
    "\n",
    "param_grid = {'learning_rate': [0.01, 0.05, 0.1], \n",
    "              'min_data_in_leaf': [2,3,4],\n",
    "              'max_depth': [1, 5, 10],\n",
    "              'lambda_l2': [0,1,10]}\n",
    "\n",
    "def model_tune_crossval(splits, par_grid, experiment_name):\n",
    "    \n",
    "    other_params = {'num_leaves': 2**10, 'verbose': 0}\n",
    "    \n",
    "    #set up panel model with random effects = lake\n",
    "    #temporal random slopes = days since 4/30/2013 (start of dataset)\n",
    "    gp_model = gpb.GPModel(group_data=pd.DataFrame({'lake':lake_train}), \n",
    "                           likelihood=\"gaussian\",\n",
    "                           group_rand_coef_data=t_train, \n",
    "                           ind_effect_group_rand_coef=[1])\n",
    "\n",
    "    data_train = gpb.Dataset(data=x_train, label=y_train)\n",
    "\n",
    "    #initialize grid search (note mae will be listed as 'l1-mean' in output)\n",
    "    opt_pars = gpb.grid_search_tune_parameters(param_grid=par_grid, \n",
    "                                                 params=other_params,\n",
    "                                                 num_boost_round=1000,\n",
    "                                                 num_try_random=None, \n",
    "                                                 folds = splits, \n",
    "                                                 seed=rs,\n",
    "                                                 train_set=data_train, \n",
    "                                                 gp_model=gp_model,\n",
    "                                                 use_gp_model_for_validation=True, \n",
    "                                                 verbose_eval=0,\n",
    "                                                 early_stopping_rounds=10,\n",
    "                                                 metric=[\"mae\",\"rmse\"])                                             \n",
    "    \n",
    "    # Get best number of boosting iterations\n",
    "    cvbst = gpb.cv(params=opt_pars['best_params'], \n",
    "                   train_set=data_train,\n",
    "                   gp_model=gp_model, \n",
    "                   use_gp_model_for_validation=True,\n",
    "                   num_boost_round=1000, \n",
    "                   early_stopping_rounds=10,\n",
    "                   folds = splits, \n",
    "                   show_stdv=False, \n",
    "                   seed=rs, \n",
    "                   metric=[\"mae\",\"rmse\"])\n",
    "    \n",
    "    best_iter_index = np.argmin(cvbst['l1-mean']) #cv boost best iteration\n",
    "    \n",
    "    best_pars = opt_pars['best_params']\n",
    "    \n",
    "    #add model results to dictionary\n",
    "    best_pars['iterations'] = best_iter_index +1\n",
    "    best_pars['mae-mean'] = cvbst['l1-mean'][best_iter_index]\n",
    "    best_pars['mae-stdv'] = cvbst['l1-stdv'][best_iter_index]\n",
    "    best_pars['rmse-mean'] = cvbst['rmse-mean'][best_iter_index]\n",
    "    best_pars['rmse-stdv'] = cvbst['rmse-stdv'][best_iter_index]\n",
    "    best_pars['experiment'] =  experiment_name\n",
    "    \n",
    "    return(best_pars)\n",
    "    "
   ]
  },
  {
   "cell_type": "code",
   "execution_count": 81,
   "id": "3ca13618",
   "metadata": {},
   "outputs": [
    {
     "name": "stderr",
     "output_type": "stream",
     "text": [
      "/Users/jilliangreene/grad_school/sentinel3_ch4_model/venv/lib/python3.12/site-packages/sklearn/model_selection/_split.py:86: UserWarning: The groups parameter is ignored by KFold\n",
      "  warnings.warn(\n"
     ]
    },
    {
     "name": "stdout",
     "output_type": "stream",
     "text": [
      "[GPBoost] [Info] Total Bins 311\n",
      "[GPBoost] [Info] Number of data points in the train set: 189, number of used features: 9\n",
      "[GPBoost] [Info] Total Bins 315\n",
      "[GPBoost] [Info] Number of data points in the train set: 190, number of used features: 9\n",
      "[GPBoost] [Info] Total Bins 320\n",
      "[GPBoost] [Info] Number of data points in the train set: 190, number of used features: 9\n",
      "[GPBoost] [Info] Total Bins 312\n",
      "[GPBoost] [Info] Number of data points in the train set: 190, number of used features: 9\n",
      "[GPBoost] [Info] Total Bins 316\n",
      "[GPBoost] [Info] Number of data points in the train set: 190, number of used features: 9\n",
      "[GPBoost] [Info] Total Bins 320\n",
      "[GPBoost] [Info] Number of data points in the train set: 190, number of used features: 9\n",
      "[GPBoost] [Info] Total Bins 316\n",
      "[GPBoost] [Info] Number of data points in the train set: 190, number of used features: 9\n",
      "[GPBoost] [Info] Total Bins 316\n",
      "[GPBoost] [Info] Number of data points in the train set: 190, number of used features: 9\n",
      "[GPBoost] [Info] Total Bins 316\n",
      "[GPBoost] [Info] Number of data points in the train set: 190, number of used features: 9\n",
      "[GPBoost] [Info] Total Bins 319\n",
      "[GPBoost] [Info] Number of data points in the train set: 190, number of used features: 9\n"
     ]
    }
   ],
   "source": [
    "#%% SIMPLE 10-FOLD CROSS VALIDATION (NO GROUPS)\n",
    "from sklearn.model_selection import KFold\n",
    "         \n",
    "kfold = KFold(n_splits = 10, random_state = 100, shuffle = True)\n",
    "\n",
    "#dictionary of best simulation results is returned (parameters and error stats)\n",
    "results_10fold = model_tune_crossval(kfold, param_grid, \"10-Folds\")\n",
    "\n"
   ]
  },
  {
   "cell_type": "code",
   "execution_count": 82,
   "id": "d150f051",
   "metadata": {},
   "outputs": [],
   "source": [
    "#%% LANDSAT GPB: COMBINE cross validation dictionary results, write to csv\n",
    "import collections\n",
    "\n",
    "dict_list = [results_10fold]\n",
    "\n",
    "landsat_results_gridsearch = collections.defaultdict(list)\n",
    "for d in dict_list:\n",
    "    for k, v in d.items():  # d.items() in Python 3+\n",
    "        landsat_results_gridsearch[k].append(v)\n",
    "\n",
    "pd.DataFrame.from_dict(data=landsat_results_gridsearch, orient='index') \\\n",
    "    .to_csv('gpboost_gridsearch_results.csv', header=False)"
   ]
  },
  {
   "cell_type": "code",
   "execution_count": 85,
   "id": "70af6539",
   "metadata": {},
   "outputs": [
    {
     "name": "stderr",
     "output_type": "stream",
     "text": [
      "/Users/jilliangreene/grad_school/sentinel3_ch4_model/venv/lib/python3.12/site-packages/sklearn/model_selection/_split.py:86: UserWarning: The groups parameter is ignored by KFold\n",
      "  warnings.warn(\n"
     ]
    },
    {
     "name": "stdout",
     "output_type": "stream",
     "text": [
      "[GPBoost] [Info] Total Bins 311\n",
      "[GPBoost] [Info] Number of data points in the train set: 189, number of used features: 9\n",
      "[GPBoost] [Info] Total Bins 315\n",
      "[GPBoost] [Info] Number of data points in the train set: 190, number of used features: 9\n",
      "[GPBoost] [Info] Total Bins 320\n",
      "[GPBoost] [Info] Number of data points in the train set: 190, number of used features: 9\n",
      "[GPBoost] [Info] Total Bins 312\n",
      "[GPBoost] [Info] Number of data points in the train set: 190, number of used features: 9\n",
      "[GPBoost] [Info] Total Bins 316\n",
      "[GPBoost] [Info] Number of data points in the train set: 190, number of used features: 9\n",
      "[GPBoost] [Info] Total Bins 320\n",
      "[GPBoost] [Info] Number of data points in the train set: 190, number of used features: 9\n",
      "[GPBoost] [Info] Total Bins 316\n",
      "[GPBoost] [Info] Number of data points in the train set: 190, number of used features: 9\n",
      "[GPBoost] [Info] Total Bins 316\n",
      "[GPBoost] [Info] Number of data points in the train set: 190, number of used features: 9\n",
      "[GPBoost] [Info] Total Bins 316\n",
      "[GPBoost] [Info] Number of data points in the train set: 190, number of used features: 9\n",
      "[GPBoost] [Info] Total Bins 319\n",
      "[GPBoost] [Info] Number of data points in the train set: 190, number of used features: 9\n",
      "[GPBoost] [Info] [GPBoost with gaussian likelihood]: initscore=19.768881\n",
      "[GPBoost] [Info] Start training from score 19.768881\n",
      "[GPBoost] [Info] [GPBoost with gaussian likelihood]: initscore=18.744385\n",
      "[GPBoost] [Info] Start training from score 18.744385\n",
      "[GPBoost] [Info] [GPBoost with gaussian likelihood]: initscore=20.100786\n",
      "[GPBoost] [Info] Start training from score 20.100786\n",
      "[GPBoost] [Info] [GPBoost with gaussian likelihood]: initscore=18.492019\n",
      "[GPBoost] [Info] Start training from score 18.492019\n",
      "[GPBoost] [Info] [GPBoost with gaussian likelihood]: initscore=19.510632\n",
      "[GPBoost] [Info] Start training from score 19.510632\n",
      "[GPBoost] [Info] [GPBoost with gaussian likelihood]: initscore=18.832407\n",
      "[GPBoost] [Info] Start training from score 18.832407\n",
      "[GPBoost] [Info] [GPBoost with gaussian likelihood]: initscore=19.554164\n",
      "[GPBoost] [Info] Start training from score 19.554164\n",
      "[GPBoost] [Info] [GPBoost with gaussian likelihood]: initscore=19.339937\n",
      "[GPBoost] [Info] Start training from score 19.339937\n",
      "[GPBoost] [Info] [GPBoost with gaussian likelihood]: initscore=19.090496\n",
      "[GPBoost] [Info] Start training from score 19.090496\n",
      "[GPBoost] [Info] [GPBoost with gaussian likelihood]: initscore=18.832438\n",
      "[GPBoost] [Info] Start training from score 18.832438\n",
      "[GPBoost] [Info] Total Bins 351\n",
      "[GPBoost] [Info] Number of data points in the train set: 211, number of used features: 9\n",
      "[GPBoost] [Info] [GPBoost with gaussian likelihood]: initscore=19.226329\n",
      "[GPBoost] [Info] Start training from score 19.226329\n"
     ]
    }
   ],
   "source": [
    "#Initialize model\n",
    "#%% LANDSAT GPB FINAL MODEL TUNE NUM ROUNDS\n",
    "\n",
    "#best parameters are from best pars of regular k-fold, final tuning\n",
    "best_pars = {'lambda_l2': 1, \n",
    "                  'learning_rate': 0.1, \n",
    "                  'max_depth': 10, \n",
    "                  'min_data_in_leaf': 2}\n",
    "\n",
    "data_train = gpb.Dataset(data=x_train, label=y_train)\n",
    "\n",
    "gp_model = gpb.GPModel(group_data=pd.DataFrame({'lake':lake_train}), \n",
    "                       likelihood=\"gaussian\",\n",
    "                       group_rand_coef_data=t_train, \n",
    "                       ind_effect_group_rand_coef=[1])\n",
    "#redo boost rounds to get best number\n",
    "\n",
    "cvbst = gpb.cv(params=best_pars, \n",
    "               train_set=data_train,\n",
    "               gp_model=gp_model, \n",
    "               use_gp_model_for_validation=True,\n",
    "               num_boost_round=3000, \n",
    "               early_stopping_rounds=10,\n",
    "               folds = kfold, \n",
    "               show_stdv=False, \n",
    "               seed=22587, \n",
    "               metric=[\"mae\",\"rmse\"])\n",
    "\n",
    "best_iter_index_gpb = np.argmin(cvbst['l1-mean']) #cv boost best iteration\n",
    "\n",
    "#%%\n",
    "gpb = gpb.train(params=best_pars, \n",
    "                        train_set=data_train,  \n",
    "                        gp_model=gp_model,\n",
    "                        num_boost_round=best_iter_index_gpb)"
   ]
  },
  {
   "cell_type": "code",
   "execution_count": 89,
   "id": "7f83fbfd",
   "metadata": {},
   "outputs": [
    {
     "name": "stdout",
     "output_type": "stream",
     "text": [
      "Model Performance\n",
      "Mean Deviation: -20.489\n",
      "Mean Absolute Error: 41.164\n",
      "RMSE: 10898.031\n",
      "Slope = 0.026\n",
      "Pearson correlation = 0.234\n",
      "r2 = 0.001\n"
     ]
    },
    {
     "data": {
      "image/png": "[encoded data removed]",
      "text/plain": [
       "<Figure size 640x480 with 2 Axes>"
      ]
     },
     "metadata": {},
     "output_type": "display_data"
    }
   ],
   "source": [
    "#%% LANDSAT GPB TRAINED MODEL PREDICTIONS ON HOLDOUT DATASET\n",
    "# Predict response variable (pred_latent=False)\n",
    "# pred_resp['response_mean']: mean predictions of the response variable \n",
    "# which combines predictions from the tree ensemble and the random effects\n",
    "# pred_resp['response_var']: predictive (co-)variances (if predict_var=True)\n",
    "pred_resp = gpb.predict(data=x_test, \n",
    "                                        group_data_pred=pd.DataFrame({'lake':lake_test}),\n",
    "                                        group_rand_coef_data_pred = t_test,\n",
    "                                        predict_var=False,\n",
    "                                        pred_latent=False)\n",
    "\n",
    "#extract predictions\n",
    "preds_landsat_testset = pred_resp['response_mean']\n",
    "\n",
    "#%% Plot prediction on test dataset (Landsat model)\n",
    "#Test dataset = coincident Landsat+Sentinel data\n",
    "#Using Landsat reflectance values\n",
    "#https://stackoverflow.com/questions/19064772/visualization-of-scatter-plots-with-overlapping-points-in-matplotlib\n",
    "\n",
    "values = np.vstack([y_test.ravel(), preds_landsat_testset.ravel()])\n",
    "kernel = stats.gaussian_kde(values, bw_method= 0.5)(values)\n",
    "\n",
    "plt.scatter(y_test, preds_landsat_testset, s=20, c=kernel,cmap='viridis')\n",
    "plt.axline((0,0), (1300,1300), linewidth=1, color='black')\n",
    "# plt.axis((0,100,0,100))\n",
    "plt.yscale('log')\n",
    "plt.xscale('log')\n",
    "plt.xlabel(\"In-situ\")\n",
    "plt.ylabel(\"Predicted\")\n",
    "plt.colorbar()\n",
    "# plt.savefig('data/figures/gpboost/GPBoost_Landsat_coincident_data_holdout'+ time.strftime(\"%Y%m%d-%H%M%S\")+ '.jpg', dpi=300)\n",
    "\n",
    "evaluate(y_test, preds_landsat_testset, 'GPB_Landsat_testset') "
   ]
  },
  {
   "cell_type": "code",
   "execution_count": 59,
   "id": "5b7cc02f",
   "metadata": {},
   "outputs": [
    {
     "name": "stdout",
     "output_type": "stream",
     "text": [
      "[GPBoost] [Warning] Unknown parameter: rmse-stdv\n",
      "[GPBoost] [Warning] Unknown parameter: rmse-mean\n",
      "[GPBoost] [Warning] Unknown parameter: experiment\n",
      "[GPBoost] [Warning] Unknown parameter: mae-mean\n",
      "[GPBoost] [Warning] Unknown parameter: mae-stdv\n",
      "[GPBoost] [Warning] Unknown parameter: iterations\n",
      "[GPBoost] [Warning] Unknown parameter: rmse-stdv\n",
      "[GPBoost] [Warning] Unknown parameter: rmse-mean\n",
      "[GPBoost] [Warning] Unknown parameter: experiment\n",
      "[GPBoost] [Warning] Unknown parameter: mae-mean\n",
      "[GPBoost] [Warning] Unknown parameter: mae-stdv\n",
      "[GPBoost] [Warning] Unknown parameter: iterations\n",
      "[GPBoost] [Info] Total Bins 52\n",
      "[GPBoost] [Info] Number of data points in the train set: 28, number of used features: 9\n",
      "[GPBoost] [Info] Start training from score 13.533185\n",
      "Model Performance\n",
      "Mean Deviation: -2.899\n",
      "Mean Absolute Error: 8.514\n",
      "RMSE: 80.027\n",
      "Slope = 0.982\n",
      "Pearson correlation = 0.965\n",
      "r2 = 0.919\n"
     ]
    },
    {
     "data": {
      "text/plain": [
       "<matplotlib.colorbar.Colorbar at 0x11f7a35c0>"
      ]
     },
     "execution_count": 59,
     "metadata": {},
     "output_type": "execute_result"
    },
    {
     "data": {
      "image/png": "[encoded data removed]",
      "text/plain": [
       "<Figure size 640x480 with 2 Axes>"
      ]
     },
     "metadata": {},
     "output_type": "display_data"
    }
   ],
   "source": [
    "#%% LANDSAT GBM (NO RANDOM EFFECTS): TRAIN BEST MODEL\n",
    "\n",
    "gbm = gpb.train(params=best_pars_gbm, \n",
    "                        train_set=data_train,  \n",
    "                        num_boost_round=best_iter_index_gbm)\n",
    "\n",
    "pred_resp_gbm = gbm.predict(data=x_test, predict_var=False, pred_latent=False)\n",
    "\n",
    "evaluate_gbm = evaluate(y_test, pred_resp_gbm, 'GBM_Landsat')\n",
    "\n",
    "values = np.vstack([y_test.ravel(), pred_resp_gbm.ravel()])\n",
    "kernel = stats.gaussian_kde(values, bw_method= 0.5)(values)\n",
    "\n",
    "plt.scatter(y_test, pred_resp_gbm, s=20, c=kernel, cmap='viridis')\n",
    "plt.axline((0,0), (150,150), linewidth=1, color='black')\n",
    "plt.axis((0,150,0,150))\n",
    "plt.xlabel(\"In-situ\")\n",
    "plt.ylabel(\"Predicted\")\n",
    "plt.colorbar()\n",
    "# plt.savefig('data/figures/gbm/GBM_Landsat_Coincident_holdout.jpg', dpi=300)"
   ]
  }
 ],
 "metadata": {
  "kernelspec": {
   "display_name": "venv",
   "language": "python",
   "name": "python3"
  },
  "language_info": {
   "codemirror_mode": {
    "name": "ipython",
    "version": 3
   },
   "file_extension": ".py",
   "mimetype": "text/x-python",
   "name": "python",
   "nbconvert_exporter": "python",
   "pygments_lexer": "ipython3",
   "version": "3.12.3"
  }
 },
 "nbformat": 4,
 "nbformat_minor": 5
}
